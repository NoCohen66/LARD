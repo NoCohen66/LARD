{
 "cells": [
  {
   "cell_type": "markdown",
   "id": "b29f4502",
   "metadata": {},
   "source": [
    "Imports :"
   ]
  },
  {
   "cell_type": "code",
   "execution_count": 1,
   "id": "0d12e5e6",
   "metadata": {},
   "outputs": [],
   "source": [
    "import sys\n",
    "sys.path.append(\"..\")\n",
    "from src.dataset.lard_dataset import LardDataset"
   ]
  },
  {
   "cell_type": "markdown",
   "id": "d18a5bf1",
   "metadata": {},
   "source": [
    "- Load your Lard dataset :"
   ]
  },
  {
   "cell_type": "code",
   "execution_count": 2,
   "id": "48e6ca2d",
   "metadata": {},
   "outputs": [],
   "source": [
    "dataset = LardDataset(train_path=\"../data/train_dataset\", test_path=\"../data/test_dataset\")"
   ]
  },
  {
   "cell_type": "markdown",
   "id": "20843e78",
   "metadata": {},
   "source": [
    "That's all, we are ready to export !\n",
    "\n",
    "- A pratical example  : how to export to coco format"
   ]
  },
  {
   "cell_type": "code",
   "execution_count": 4,
   "id": "0c2de920",
   "metadata": {},
   "outputs": [
    {
     "name": "stdout",
     "output_type": "stream",
     "text": [
      "------ Exporting train dataset -------\n",
      "Converting bboxes to tlwh format\n",
      "Converting bboxes from tlwh to xywh\n",
      "Normalizing bboxes\n",
      "Starting images export\n",
      "Progress : 0 images on 489\n",
      "Progress : 100 images on 489\n",
      "Progress : 200 images on 489\n",
      "Progress : 300 images on 489\n",
      "Progress : 400 images on 489\n",
      "------ Exporting test dataset -------\n",
      "Converting bboxes to tlwh format\n",
      "Converting bboxes from tlwh to xywh\n",
      "Normalizing bboxes\n",
      "Starting images export\n",
      "Progress : 0 images on 1177\n",
      "Progress : 100 images on 1177\n",
      "Progress : 200 images on 1177\n",
      "Progress : 300 images on 1177\n",
      "Progress : 400 images on 1177\n",
      "Progress : 500 images on 1177\n",
      "Progress : 600 images on 1177\n",
      "Progress : 700 images on 1177\n",
      "Progress : 800 images on 1177\n",
      "Progress : 900 images on 1177\n",
      "Progress : 1000 images on 1177\n",
      "Progress : 1100 images on 1177\n"
     ]
    }
   ],
   "source": [
    "dataset.export(output_dir =\"../data/converted_dataset_coco\", \n",
    "               bbx_format=\"xywh\", \n",
    "               normalized=True, \n",
    "               label_file=\"single\", \n",
    "               crop=False,\n",
    "               sep=' ',\n",
    "               header=False,\n",
    "               ext=\"txt\")"
   ]
  },
  {
   "cell_type": "markdown",
   "id": "9911c4cb",
   "metadata": {},
   "source": [
    "### Additional information :"
   ]
  },
  {
   "cell_type": "markdown",
   "id": "01e0085f",
   "metadata": {},
   "source": [
    "#### How should your dataset be structured for it to work ?\n",
    "\n",
    "The expected format is one created with the Lard labeling script or notebook :\n",
    "\n",
    "- Case 1 : single dataset :  with DATASET_PATH either of the path provided to LardDataset(train_path=, test_path=)\n",
    "\n",
    "    DATASET_PATH :\n",
    "        ---> DATASET_PATH/metadata.csv\n",
    "        ---> DATASET_PATH/images/\n",
    "        ---> DATASET_PATH/images/nameimage1.jpeg\n",
    "        ---> DATASET_PATH/images/nameimage2.jpeg\n",
    "    ...\n",
    "\n",
    "And same structure for TEST_PATH. Please note it is the default structure the labelling script exports the labels.\n",
    "\n",
    "- Case 2 : splitted dataset :  DATASET_PATH can be either of the path provided to LardDataset(train_path=, test_path=)\n",
    "\n",
    "    DATASET_PATH :\n",
    "        ---> DATASET_PATH/dataset_1/metadata.csv\n",
    "        ---> DATASET_PATH/dataset_1/images/\n",
    "        ---> DATASET_PATH/dataset_1/images/name_dataset1image1.jpeg\n",
    "        ---> DATASET_PATH/dataset_1/images/name_dataset1image2.jpeg\n",
    "        \n",
    "        ---> DATASET_PATH/dataset_2/others_metadata.csv\n",
    "        ---> DATASET_PATH/dataset_2/images/\n",
    "        ---> DATASET_PATH/dataset_2/images/name_dataset2_image1.jpeg\n",
    "        ---> DATASET_PATH/dataset_2/images/name_dataset2_image2.jpeg\n",
    "        ...\n",
    "\n",
    "- Other informations : \n",
    "    - train_path and test_path can of the same type, or mixted : train_path can be of type 1 and test_path of type 2, or the opposite. \n",
    "    - There can be more than two dataset in DATASET_PATH in case 2. \n",
    "    - CSV and images names do not matter, only the architecture : that there is a single csv file in each directory specified above. Each csv is expected to be generated with the LARD labeling script or notebook.\n",
    "\n",
    "#### What are the supported options for export ?\n",
    "\n",
    "A more comprehensive description of the available parameters and exports options :\n",
    "\n",
    "- output_dir: directory where the converted dataset will be saved. Expects a pathlib Path or a string.\n",
    "- bbx_format: string format for label bbox. Options are :\n",
    "    - \"tlbr\" (x,y of top left then x,y of bottom rights corners of the bbox)\n",
    "    - \"tlwh\" (x, y of top left, bbox width and height)\n",
    "    - \"xywh\" (x, y of the center of the bbox, bbox width and height)\n",
    "    - \"corners\" (x,y of each corner)\n",
    "- normalized: boolean, option to normalize the bbox position by the image size. \n",
    "    - If true, bbox labels are expressed in fraction of the image width and height\n",
    "    - If False, positions are left in pixels. Default choice.\n",
    "- label_file: string, options are :\n",
    "    - \"single\" : all the labels are in a single csv, with a column with image path\n",
    "    - \"multiple\" : one label file per image, saved in output_dir/labels.\n",
    "- sep: label file(s) separator, default is \";\".\n",
    "- header: boolean. If True, an header column with column names is added to each label file.\n",
    "- crop: boolean \n",
    "    - If True, crop during export all images with watermarks and updates bboxes position to the cropped image. \n",
    "    - If False, the image will be copied without modifications.\n",
    "- ext: Extension format for labels files (without the \".\"). Default is \"txt\"."
   ]
  },
  {
   "cell_type": "code",
   "execution_count": null,
   "id": "c912dd99",
   "metadata": {},
   "outputs": [],
   "source": []
  },
  {
   "cell_type": "code",
   "execution_count": null,
   "id": "fd68164c",
   "metadata": {},
   "outputs": [],
   "source": []
  }
 ],
 "metadata": {
  "kernelspec": {
   "display_name": "Python 3 (ipykernel)",
   "language": "python",
   "name": "python3"
  },
  "language_info": {
   "codemirror_mode": {
    "name": "ipython",
    "version": 3
   },
   "file_extension": ".py",
   "mimetype": "text/x-python",
   "name": "python",
   "nbconvert_exporter": "python",
   "pygments_lexer": "ipython3",
   "version": "3.9.15"
  }
 },
 "nbformat": 4,
 "nbformat_minor": 5
}
