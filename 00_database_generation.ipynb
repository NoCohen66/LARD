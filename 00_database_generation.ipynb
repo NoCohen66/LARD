{
 "cells": [
  {
   "cell_type": "code",
   "execution_count": 1,
   "metadata": {},
   "outputs": [],
   "source": [
    "import json\n",
    "import yaml\n",
    "import numpy as np\n",
    "\n",
    "from src.ges.ges_dataset import add_or_update_runways"
   ]
  },
  {
   "cell_type": "markdown",
   "metadata": {},
   "source": [
    "### Open and use current database"
   ]
  },
  {
   "cell_type": "code",
   "execution_count": 2,
   "metadata": {},
   "outputs": [
    {
     "name": "stdout",
     "output_type": "stream",
     "text": [
      "['ZBAA', 'LTAI', 'LICJ', 'LPPT', 'LIRN', 'EDDV', 'LAX', 'LSZH', 'LEMD', 'LWSK', 'VHHH', 'CYUL', 'VRMM', 'LFSB', 'LCPH', 'LFML', 'GCRR', 'EHAM', 'SAEZ', 'LFRN', 'LFRS', 'LFPO', 'LFQQ', 'LFST', 'LFMP', 'DAAG', 'VABB', 'BIRK', 'BGBW', 'BGPT', 'ZULS', 'YBBN', 'CYVR', 'CYYZ', 'KIAH', 'KJFK', 'KMIA', 'KSFO', 'LFMN', 'MDSD', 'OMDB', 'RJAA', 'RJTT', 'WSSS', 'FMEP', 'VQPR']\n"
     ]
    }
   ],
   "source": [
    "\n",
    "data_file = 'data/runways_database.json'\n",
    "ICAO_airport_list = []\n",
    "with open(data_file, 'r') as f:\n",
    "    runways_database = json.load(f)\n",
    "    for airport in runways_database:\n",
    "        ICAO_airport_list.append(airport[0:4])\n",
    "        # for runway in runways_database[airport]:\n",
    "        #     print(runway)\n",
    "        #     for point in runways_database[airport][runway]:\n",
    "        #         print(point)\n",
    "        #         print(runways_database[airport][runway][point])\n",
    "        #         # print(runways_database[airport][runway][point]['coordinate']['latitude'])\n",
    "        # break\n",
    "print(ICAO_airport_list)\n"
   ]
  },
  {
   "cell_type": "code",
   "execution_count": 3,
   "metadata": {},
   "outputs": [],
   "source": [
    "runways_db_name = 'data/runways_database.json'\n",
    "airport_name = 'FMEP'\n",
    "runways = ['15', '33'] # Supports 1 or 2 runway ID\n",
    "coordinates = np.array([\n",
    "    [-21.313539792048655, 55.414677867454635, 17 ], # Points 1 and 2 should correspond to the first runway ID\n",
    "    [-21.313233693596825, 55.414951452761926, 17 ] ,\n",
    "    [-21.324679789297647, 55.43004674957136, 14  ] , # Points 3 and 4 should correspond to the second runway ID if present\n",
    "    [-21.32499113834105, 55.42977957629199, 14  ] ])\n",
    "\n",
    "add_or_update_runways(runways_db_name, airport_name, runways, coordinates)#, output_db=\"bak\")"
   ]
  },
  {
   "cell_type": "code",
   "execution_count": 4,
   "metadata": {},
   "outputs": [],
   "source": [
    "runways_db_name = 'data/runways_database.json'\n",
    "airport_name = 'VQPR'\n",
    "runways = ['33', '15'] # Supports 1 or 2 runway ID\n",
    "coordinates = np.array([[27.395380538721312, 89.42993122468073, 2223 ], # Points 1 and 2 should correspond to the first runway ID\n",
    "    [27.395252932919668, 89.4296575962741, 2223 ] ,\n",
    "    [27.41084967159982, 89.41974696880098, 2239  ] , # Points 3 and 4 should correspond to the second runway ID if present\n",
    "    [27.410976463643035, 89.41999976698172, 2239  ] ])\n",
    "\n",
    "add_or_update_runways(runways_db_name, airport_name, runways, coordinates)#, output_db=\"bak\")"
   ]
  },
  {
   "cell_type": "code",
   "execution_count": null,
   "metadata": {},
   "outputs": [],
   "source": [
    "runways_db_name = 'data/My_runway_database.json'\n",
    "airport_name = 'YBBN'\n",
    "runways = ['01', '19'] # Supports 1 or 2 runway ID\n",
    "coordinates = np.array([\n",
    "    [  -27.402915287771446, 153.11842342220433, -1 ], # Points 1 and 2 should correspond to the first runway ID\n",
    "    [   -27.402734367704532, 153.11802790132325,-1 ] ,\n",
    "    [ -27.374768439323887, 153.1345185366854, -3  ] , # Points 3 and 4 should correspond to the second runway ID if present\n",
    "    [   -27.37459000204882, 153.13412570163402, -3  ] ])\n",
    "\n",
    "add_or_update_runways(runways_db_name, airport_name, runways, coordinates)#, output_db=\"bak\")"
   ]
  },
  {
   "cell_type": "code",
   "execution_count": null,
   "metadata": {},
   "outputs": [],
   "source": [
    "runways_db_name = 'data/runways_database.json'\n",
    "airport_name = 'TEST'\n",
    "runways = ['111'] # Supports 1 or 2 runway ID\n",
    "coordinates = np.array([[40, 116, 30],\n",
    "                        [40, 118, 30],\n",
    "                        [41, 115, 30],\n",
    "                        [41, 117, 30],])\n",
    "\n",
    "add_or_update_runways(runways_db_name, airport_name, runways, coordinates)#, output_db=\"bak\")"
   ]
  },
  {
   "cell_type": "code",
   "execution_count": null,
   "metadata": {},
   "outputs": [],
   "source": [
    "runways_db_name = 'data/runways_database.json'\n",
    "airport_name = 'BGPT'\n",
    "runways = ['35', '17'] # Supports 1 or 2 runway ID\n",
    "coordinates = np.array([[62.01180720051548, -49.66652043824113, 50],\n",
    "                        [62.01197044779967, -49.666064905515, 50],\n",
    "                        [62.01749610699802, -49.67579609553864, 11],\n",
    "                        [62.01765532056943, -49.67533745860813, 11]])\n",
    "\n",
    "add_or_update_runways(runways_db_name, airport_name, runways, coordinates)#, output_db=\"bak\")"
   ]
  },
  {
   "cell_type": "code",
   "execution_count": null,
   "metadata": {},
   "outputs": [],
   "source": [
    "runways_db_name = 'data/runways_database.json'\n",
    "airport_name = 'ZULS'\n",
    "runways = ['09L', '27R'] # Supports 1 or 2 runway ID\n",
    "coordinates = np.array([[29.297978656525416, 90.89163226447037, 3576],\n",
    "                        [29.29757578235044, 90.89165142430483, 3576],\n",
    "                        [29.29818470017833, 90.93280200672305, 3571],\n",
    "                        [29.29858539469733, 90.93277939654195, 3571]])\n",
    "\n",
    "add_or_update_runways(runways_db_name, airport_name, runways, coordinates)#, output_db=\"bak\")"
   ]
  },
  {
   "cell_type": "code",
   "execution_count": null,
   "metadata": {},
   "outputs": [],
   "source": [
    "runways_db_name = 'data/runways_database.json'\n",
    "airport_name = 'RANG'\n",
    "runways = ['H'] # Supports 1 or 2 runway ID\n",
    "coordinates = np.array([[43.56136527727978, 1.4485209947697573, 240],\n",
    "                        [43.5613463269128, 1.4487697696372808, 240],\n",
    "                        [43.56116508335828, 1.4487436181013413, 240],\n",
    "                        [43.56118354787401, 1.4484935021294112, 240]])\n",
    "\n",
    "add_or_update_runways(runways_db_name, airport_name, runways, coordinates)#, output_db=\"bak\")"
   ]
  }
 ],
 "metadata": {
  "kernelspec": {
   "display_name": "Python 3 (ipykernel)",
   "language": "python",
   "name": "python3"
  },
  "language_info": {
   "codemirror_mode": {
    "name": "ipython",
    "version": 3
   },
   "file_extension": ".py",
   "mimetype": "text/x-python",
   "name": "python",
   "nbconvert_exporter": "python",
   "pygments_lexer": "ipython3",
   "version": "3.9.15"
  },
  "vscode": {
   "interpreter": {
    "hash": "6782b5accf1a5d95298594325f24963e8c4cda6487ba23d556f1a2f3e58b44a3"
   }
  }
 },
 "nbformat": 4,
 "nbformat_minor": 2
}
