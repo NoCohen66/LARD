{
 "cells": [
  {
   "cell_type": "code",
   "execution_count": 1,
   "metadata": {},
   "outputs": [],
   "source": [
    "import json\n",
    "import yaml\n",
    "import os\n",
    "import sys\n",
    "from pathlib import Path\n",
    "\n",
    "from src.scenario.scenario_config import ScenarioConfig\n",
    "from src.scenario.write_scenario import write_scenario"
   ]
  },
  {
   "cell_type": "markdown",
   "metadata": {},
   "source": [
    "### Google scenario generation from yaml file :"
   ]
  },
  {
   "cell_type": "code",
   "execution_count": 5,
   "metadata": {},
   "outputs": [
    {
     "name": "stdout",
     "output_type": "stream",
     "text": [
      "Scenario exported as esp : scenarios/SAEZ_test_/SAEZ_test_17.esp\n",
      "Scenario exported as yaml : scenarios/SAEZ_test_/SAEZ_test_17.yaml\n"
     ]
    }
   ],
   "source": [
    "\n",
    "config = ScenarioConfig(yaml_file=\"params/example_generation.yaml\")\n",
    "write_scenario(config)"
   ]
  },
  {
   "cell_type": "markdown",
   "metadata": {},
   "source": [
    "### Automatic generation of scenarii for multiple airports :"
   ]
  },
  {
   "cell_type": "markdown",
   "metadata": {},
   "source": [
    "Let's see the aiports in dabatase"
   ]
  },
  {
   "cell_type": "code",
   "execution_count": 4,
   "metadata": {},
   "outputs": [
    {
     "name": "stdout",
     "output_type": "stream",
     "text": [
      "['ZBAA', 'LTAI', 'LICJ', 'LPPT', 'LIRN', 'EDDV', 'LAX', 'LSZH', 'LEMD', 'LWSK', 'VHHH', 'CYUL', 'VRMM', 'LFSB', 'LCPH', 'LFML', 'GCRR', 'EHAM', 'SAEZ', 'LFRN', 'LFRS', 'LFPO', 'LFQQ', 'LFST', 'LFMP', 'DAAG', 'VABB', 'BIRK', 'BGBW', 'BGPT', 'ZULS', 'YBBN', 'CYVR', 'CYYZ', 'KIAH', 'KJFK', 'KMIA', 'KSFO', 'LFMN', 'MDSD', 'OMDB', 'RJAA', 'RJTT', 'WSSS', 'FMEP', 'VQPR', 'DIAP', 'KMSY', 'SRLI']\n"
     ]
    }
   ],
   "source": [
    "data_file = './data/runways_database.json'\n",
    "\n",
    "with open(data_file, 'r') as f:\n",
    "    runways_database = json.load(f)\n",
    "airports = [airport for airport in runways_database]\n",
    "\n",
    "print(airports)"
   ]
  },
  {
   "cell_type": "markdown",
   "metadata": {},
   "source": [
    "Let's generate custom google earth scenari for multiple airports :"
   ]
  },
  {
   "cell_type": "code",
   "execution_count": 17,
   "metadata": {},
   "outputs": [],
   "source": [
    "output_directory = Path(\"scenarios/new_train_generation_VABB\")\n",
    "os.makedirs(output_directory, exist_ok=True)"
   ]
  },
  {
   "cell_type": "markdown",
   "metadata": {},
   "source": [
    " -  making a custom generation with 10 airports, all their runways, 61 images per runway, and custom parameters :"
   ]
  },
  {
   "cell_type": "code",
   "execution_count": 19,
   "metadata": {},
   "outputs": [
    {
     "name": "stdout",
     "output_type": "stream",
     "text": [
      "Scenario exported as esp : scenarios\\new_train_generation_VABB\\VABB_32_50\\VABB_32_50.esp\n",
      "Scenario exported as yaml : scenarios\\new_train_generation_VABB\\VABB_32_50\\VABB_32_50.yaml\n",
      "Scenario exported as esp : scenarios\\new_train_generation_VABB\\VABB_14_50\\VABB_14_50.esp\n",
      "Scenario exported as yaml : scenarios\\new_train_generation_VABB\\VABB_14_50\\VABB_14_50.yaml\n",
      "Scenario exported as esp : scenarios\\new_train_generation_VABB\\VABB_09_50\\VABB_09_50.esp\n",
      "Scenario exported as yaml : scenarios\\new_train_generation_VABB\\VABB_09_50\\VABB_09_50.yaml\n",
      "Scenario exported as esp : scenarios\\new_train_generation_VABB\\VABB_27_50\\VABB_27_50.esp\n",
      "Scenario exported as yaml : scenarios\\new_train_generation_VABB\\VABB_27_50\\VABB_27_50.yaml\n"
     ]
    }
   ],
   "source": [
    "#airports = ['DIAP', 'KMSY', 'SRLI']\n",
    "airports = ['KMSY', 'SRLI']\n",
    "airports = ['VABB']\n",
    "for airport in airports:\n",
    "    for elt in runways_database[airport]: \n",
    "        #runway = elt[0:3]\n",
    "        runway = elt\n",
    "        sample_number = 50\n",
    "        \n",
    "        conf = ScenarioConfig(airport, \n",
    "                              [runway], \n",
    "                              scenario_dir= output_directory / f\"{airport}_{runway}_{sample_number}\")\n",
    "        \n",
    "        conf.sample_number = sample_number\n",
    "        \n",
    "        conf.hour_min = 4\n",
    "        conf.hour_max = 9\n",
    "        conf.month_min=4\n",
    "        conf.month_max=8\n",
    "        conf.minute_min=0\n",
    "        conf.minute_max=55\n",
    "        \n",
    "        conf.alpha_h_deg = 0\n",
    "        conf.alpha_v_deg = -3\n",
    "        conf.distrib_param = 1.41\n",
    "        conf.distribution = \"exp\"\n",
    "        conf.max_distance_m = 8000\n",
    "        conf.min_distance_m = 150\n",
    "        conf.pitch_deg = -4\n",
    "        conf.roll_deg = 0\n",
    "        conf.std_alpha_h_deg = 3\n",
    "        conf.std_alpha_v_deg = .4\n",
    "        conf.std_pitch_deg = 2\n",
    "        conf.std_roll_deg = 5\n",
    "        conf.std_yaw_deg = 5.0\n",
    "        \n",
    "        write_scenario(conf)"
   ]
  },
  {
   "cell_type": "code",
   "execution_count": null,
   "metadata": {},
   "outputs": [],
   "source": []
  },
  {
   "cell_type": "code",
   "execution_count": null,
   "metadata": {},
   "outputs": [],
   "source": []
  },
  {
   "cell_type": "code",
   "execution_count": null,
   "metadata": {},
   "outputs": [],
   "source": []
  },
  {
   "cell_type": "code",
   "execution_count": null,
   "metadata": {},
   "outputs": [],
   "source": []
  },
  {
   "cell_type": "code",
   "execution_count": null,
   "metadata": {},
   "outputs": [],
   "source": []
  }
 ],
 "metadata": {
  "kernelspec": {
   "display_name": "Python 3 (ipykernel)",
   "language": "python",
   "name": "python3"
  },
  "language_info": {
   "codemirror_mode": {
    "name": "ipython",
    "version": 3
   },
   "file_extension": ".py",
   "mimetype": "text/x-python",
   "name": "python",
   "nbconvert_exporter": "python",
   "pygments_lexer": "ipython3",
   "version": "3.9.15"
  },
  "vscode": {
   "interpreter": {
    "hash": "6c92753ff5a6b9e8444ec4eb5687a6b399a6ce105039843bee5a46e2a37cb572"
   }
  }
 },
 "nbformat": 4,
 "nbformat_minor": 2
}
